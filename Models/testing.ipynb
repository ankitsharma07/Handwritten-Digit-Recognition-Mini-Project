{
 "cells": [
  {
   "cell_type": "markdown",
   "metadata": {
    "toc": true
   },
   "source": [
    "<h1>Table of Contents<span class=\"tocSkip\"></span></h1>\n",
    "<div class=\"toc\"><ul class=\"toc-item\"></ul></div>"
   ]
  },
  {
   "cell_type": "code",
   "execution_count": 1,
   "metadata": {
    "ExecuteTime": {
     "end_time": "2018-05-03T07:27:03.914702Z",
     "start_time": "2018-05-03T07:27:01.420057Z"
    }
   },
   "outputs": [
    {
     "name": "stderr",
     "output_type": "stream",
     "text": [
      "Using TensorFlow backend.\n"
     ]
    }
   ],
   "source": [
    "import numpy as np\n",
    "import pandas as pd\n",
    "import matplotlib.pyplot as plt\n",
    " \n",
    "import keras\n",
    "from keras.models import Sequential\n",
    "from keras.layers import Dense, Dropout, Flatten, Conv2D, MaxPooling2D\n",
    "from keras.utils.np_utils import to_categorical\n",
    "from sklearn.model_selection import train_test_split"
   ]
  },
  {
   "cell_type": "code",
   "execution_count": 2,
   "metadata": {
    "ExecuteTime": {
     "end_time": "2018-05-03T07:27:09.700695Z",
     "start_time": "2018-05-03T07:27:05.226826Z"
    }
   },
   "outputs": [
    {
     "data": {
      "text/plain": [
       "(42000, 785)"
      ]
     },
     "execution_count": 2,
     "metadata": {},
     "output_type": "execute_result"
    }
   ],
   "source": [
    "train = pd.read_csv(\"/Users/ankitsharma/Documents/Documents/Stuff/Minor Project/data/train.csv\")\n",
    "\n",
    "train.shape"
   ]
  },
  {
   "cell_type": "code",
   "execution_count": 3,
   "metadata": {
    "ExecuteTime": {
     "end_time": "2018-05-03T07:27:33.108995Z",
     "start_time": "2018-05-03T07:27:32.971654Z"
    }
   },
   "outputs": [],
   "source": [
    "X_train_all = (train.iloc[:, 1:].values).astype('float32') / 255 #all pixel values converted to feature matrix of 0 and 1\n",
    "\n",
    "y_train_all = train.iloc[:, 0].values.astype('int32') #labels only.. target digits.\n"
   ]
  },
  {
   "cell_type": "code",
   "execution_count": 4,
   "metadata": {
    "ExecuteTime": {
     "end_time": "2018-05-03T07:27:36.949742Z",
     "start_time": "2018-05-03T07:27:36.942549Z"
    }
   },
   "outputs": [],
   "source": [
    "y_train_all = to_categorical(y_train_all) \n",
    "\n",
    "#converts to one hot encoder"
   ]
  },
  {
   "cell_type": "code",
   "execution_count": 5,
   "metadata": {
    "ExecuteTime": {
     "end_time": "2018-05-03T07:27:41.405088Z",
     "start_time": "2018-05-03T07:27:40.918280Z"
    }
   },
   "outputs": [],
   "source": [
    "X_train, X_test, y_train, y_test = train_test_split(X_train_all, y_train_all, test_size = 0.10, random_state = 42)"
   ]
  },
  {
   "cell_type": "code",
   "execution_count": 6,
   "metadata": {
    "ExecuteTime": {
     "end_time": "2018-05-03T07:27:46.367509Z",
     "start_time": "2018-05-03T07:27:46.362284Z"
    }
   },
   "outputs": [],
   "source": [
    "X_train_image = np.reshape(X_train,(X_train.shape[0], 28, 28, 1))\n",
    "X_test_image = np.reshape(X_test,(X_test.shape[0], 28, 28, 1))"
   ]
  },
  {
   "cell_type": "code",
   "execution_count": 7,
   "metadata": {
    "ExecuteTime": {
     "end_time": "2018-05-03T07:27:47.969723Z",
     "start_time": "2018-05-03T07:27:47.744413Z"
    }
   },
   "outputs": [
    {
     "data": {
      "image/png": "[encoded data removed]",
      "text/plain": [
       "<matplotlib.figure.Figure at 0x1025fe400>"
      ]
     },
     "metadata": {},
     "output_type": "display_data"
    }
   ],
   "source": [
    "plt.imshow(X_train_image[1,:,:,0], cmap = \"gray\")\n",
    "plt.show()"
   ]
  },
  {
   "cell_type": "code",
   "execution_count": 8,
   "metadata": {
    "ExecuteTime": {
     "end_time": "2018-05-03T07:27:51.199048Z",
     "start_time": "2018-05-03T07:27:51.099139Z"
    }
   },
   "outputs": [
    {
     "name": "stdout",
     "output_type": "stream",
     "text": [
      "_________________________________________________________________\n",
      "Layer (type)                 Output Shape              Param #   \n",
      "=================================================================\n",
      "conv2d_1 (Conv2D)            (None, 13, 13, 32)        320       \n",
      "_________________________________________________________________\n",
      "max_pooling2d_1 (MaxPooling2 (None, 6, 6, 32)          0         \n",
      "_________________________________________________________________\n",
      "flatten (Flatten)            (None, 1152)              0         \n",
      "_________________________________________________________________\n",
      "dense_1 (Dense)              (None, 10)                11530     \n",
      "=================================================================\n",
      "Total params: 11,850\n",
      "Trainable params: 11,850\n",
      "Non-trainable params: 0\n",
      "_________________________________________________________________\n"
     ]
    }
   ],
   "source": [
    "model = Sequential()\n",
    "model.add(Conv2D(32, (3,3),\n",
    "                 activation = \"relu\",\n",
    "                 input_shape = (28,28,1),\n",
    "                 strides = (2,2)\n",
    "                ))\n",
    "model.add(MaxPooling2D(pool_size=(2,2)))\n",
    "model.add(Flatten(name  = \"flatten\"))\n",
    "model.add(Dense(10, activation=\"sigmoid\"))\n",
    "model.summary()"
   ]
  },
  {
   "cell_type": "code",
   "execution_count": 9,
   "metadata": {
    "ExecuteTime": {
     "end_time": "2018-05-03T07:27:55.379934Z",
     "start_time": "2018-05-03T07:27:55.321221Z"
    }
   },
   "outputs": [],
   "source": [
    "model.compile(loss = \"categorical_crossentropy\",\n",
    "              optimizer= \"adam\",\n",
    "              metrics=[\"accuracy\"]\n",
    "             )"
   ]
  },
  {
   "cell_type": "code",
   "execution_count": 11,
   "metadata": {
    "ExecuteTime": {
     "end_time": "2018-05-03T07:31:28.281564Z",
     "start_time": "2018-05-03T07:30:10.816718Z"
    }
   },
   "outputs": [
    {
     "name": "stdout",
     "output_type": "stream",
     "text": [
      "Train on 37800 samples, validate on 4200 samples\n",
      "Epoch 1/25\n",
      " - 3s - loss: 0.0408 - acc: 0.9879 - val_loss: 0.0776 - val_acc: 0.9745\n",
      "Epoch 2/25\n",
      " - 3s - loss: 0.0386 - acc: 0.9887 - val_loss: 0.0780 - val_acc: 0.9736\n",
      "Epoch 3/25\n",
      " - 3s - loss: 0.0378 - acc: 0.9892 - val_loss: 0.0833 - val_acc: 0.9752\n",
      "Epoch 4/25\n",
      " - 3s - loss: 0.0362 - acc: 0.9895 - val_loss: 0.0779 - val_acc: 0.9755\n",
      "Epoch 5/25\n",
      " - 3s - loss: 0.0349 - acc: 0.9905 - val_loss: 0.0864 - val_acc: 0.9736\n",
      "Epoch 6/25\n",
      " - 3s - loss: 0.0338 - acc: 0.9900 - val_loss: 0.0817 - val_acc: 0.9736\n",
      "Epoch 7/25\n",
      " - 3s - loss: 0.0327 - acc: 0.9908 - val_loss: 0.0830 - val_acc: 0.9755\n",
      "Epoch 8/25\n",
      " - 3s - loss: 0.0320 - acc: 0.9910 - val_loss: 0.0745 - val_acc: 0.9750\n",
      "Epoch 9/25\n",
      " - 3s - loss: 0.0308 - acc: 0.9907 - val_loss: 0.0819 - val_acc: 0.9738\n",
      "Epoch 10/25\n",
      " - 3s - loss: 0.0295 - acc: 0.9917 - val_loss: 0.0790 - val_acc: 0.9762\n",
      "Epoch 11/25\n",
      " - 3s - loss: 0.0285 - acc: 0.9922 - val_loss: 0.0803 - val_acc: 0.9755\n",
      "Epoch 12/25\n",
      " - 3s - loss: 0.0276 - acc: 0.9921 - val_loss: 0.0784 - val_acc: 0.9769\n",
      "Epoch 13/25\n",
      " - 3s - loss: 0.0260 - acc: 0.9929 - val_loss: 0.0843 - val_acc: 0.9736\n",
      "Epoch 14/25\n",
      " - 3s - loss: 0.0263 - acc: 0.9924 - val_loss: 0.0826 - val_acc: 0.9755\n",
      "Epoch 15/25\n",
      " - 3s - loss: 0.0258 - acc: 0.9926 - val_loss: 0.0817 - val_acc: 0.9752\n",
      "Epoch 16/25\n",
      " - 3s - loss: 0.0240 - acc: 0.9938 - val_loss: 0.0809 - val_acc: 0.9769\n",
      "Epoch 17/25\n",
      " - 3s - loss: 0.0241 - acc: 0.9931 - val_loss: 0.0845 - val_acc: 0.9738\n",
      "Epoch 18/25\n",
      " - 3s - loss: 0.0226 - acc: 0.9941 - val_loss: 0.0817 - val_acc: 0.9781\n",
      "Epoch 19/25\n",
      " - 3s - loss: 0.0219 - acc: 0.9941 - val_loss: 0.0860 - val_acc: 0.9743\n",
      "Epoch 20/25\n",
      " - 3s - loss: 0.0213 - acc: 0.9945 - val_loss: 0.0844 - val_acc: 0.9757\n",
      "Epoch 21/25\n",
      " - 3s - loss: 0.0204 - acc: 0.9946 - val_loss: 0.0895 - val_acc: 0.9752\n",
      "Epoch 22/25\n",
      " - 3s - loss: 0.0196 - acc: 0.9948 - val_loss: 0.0830 - val_acc: 0.9769\n",
      "Epoch 23/25\n",
      " - 3s - loss: 0.0200 - acc: 0.9947 - val_loss: 0.0861 - val_acc: 0.9760\n",
      "Epoch 24/25\n",
      " - 3s - loss: 0.0185 - acc: 0.9956 - val_loss: 0.0916 - val_acc: 0.9745\n",
      "Epoch 25/25\n",
      " - 3s - loss: 0.0181 - acc: 0.9951 - val_loss: 0.0869 - val_acc: 0.9726\n"
     ]
    }
   ],
   "source": [
    "batch_size = 64\n",
    "nb_epochs = 25\n",
    "\n",
    "model_fitting = model.fit(X_train_image, y_train,\n",
    "                          batch_size= batch_size,\n",
    "                          epochs= nb_epochs,\n",
    "                          verbose=2,\n",
    "                          validation_data=(X_test_image, y_test),\n",
    "                          initial_epoch= 0\n",
    "                         )"
   ]
  },
  {
   "cell_type": "code",
   "execution_count": 11,
   "metadata": {
    "ExecuteTime": {
     "end_time": "2018-05-02T22:50:52.530495Z",
     "start_time": "2018-05-02T22:50:49.374096Z"
    }
   },
   "outputs": [],
   "source": [
    "test = pd.read_csv(\"/Users/ankitsharma/Documents/Documents/Stuff/Minor Project/data/test.csv\")"
   ]
  },
  {
   "cell_type": "code",
   "execution_count": 12,
   "metadata": {
    "ExecuteTime": {
     "end_time": "2018-05-02T22:50:59.448139Z",
     "start_time": "2018-05-02T22:50:59.343084Z"
    }
   },
   "outputs": [],
   "source": [
    "X_testing = (test.values).astype(\"float32\")/255\n",
    "\n",
    "X_testing_image = np.reshape(X_testing, (X_testing.shape[0], 28, 28, 1))"
   ]
  },
  {
   "cell_type": "code",
   "execution_count": 13,
   "metadata": {
    "ExecuteTime": {
     "end_time": "2018-05-02T22:51:10.534297Z",
     "start_time": "2018-05-02T22:51:09.443504Z"
    }
   },
   "outputs": [],
   "source": [
    "pred_class = model.predict_classes(X_testing_image, verbose=0)"
   ]
  },
  {
   "cell_type": "code",
   "execution_count": 14,
   "metadata": {
    "ExecuteTime": {
     "end_time": "2018-05-02T22:51:19.245324Z",
     "start_time": "2018-05-02T22:51:19.074310Z"
    }
   },
   "outputs": [
    {
     "data": {
      "image/png": "[encoded data removed]",
      "text/plain": [
       "<matplotlib.figure.Figure at 0x10bef62e8>"
      ]
     },
     "metadata": {},
     "output_type": "display_data"
    }
   ],
   "source": [
    "i=2\n",
    "plt.imshow(X_testing_image[i,:,:,0],cmap='gray')\n",
    "\n",
    "plt.title('prediction:%d'%pred_class[i])\n",
    "\n",
    "plt.show()"
   ]
  },
  {
   "cell_type": "code",
   "execution_count": null,
   "metadata": {},
   "outputs": [],
   "source": []
  }
 ],
 "metadata": {
  "kernelspec": {
   "display_name": "Python 3",
   "language": "python",
   "name": "python3"
  },
  "language_info": {
   "codemirror_mode": {
    "name": "ipython",
    "version": 3
   },
   "file_extension": ".py",
   "mimetype": "text/x-python",
   "name": "python",
   "nbconvert_exporter": "python",
   "pygments_lexer": "ipython3",
   "version": "3.6.4"
  },
  "toc": {
   "nav_menu": {},
   "number_sections": false,
   "sideBar": true,
   "skip_h1_title": false,
   "title_cell": "Table of Contents",
   "title_sidebar": "Contents",
   "toc_cell": true,
   "toc_position": {},
   "toc_section_display": true,
   "toc_window_display": false
  },
  "varInspector": {
   "cols": {
    "lenName": 16,
    "lenType": 16,
    "lenVar": 40
   },
   "kernels_config": {
    "python": {
     "delete_cmd_postfix": "",
     "delete_cmd_prefix": "del ",
     "library": "var_list.py",
     "varRefreshCmd": "print(var_dic_list())"
    },
    "r": {
     "delete_cmd_postfix": ") ",
     "delete_cmd_prefix": "rm(",
     "library": "var_list.r",
     "varRefreshCmd": "cat(var_dic_list()) "
    }
   },
   "types_to_exclude": [
    "module",
    "function",
    "builtin_function_or_method",
    "instance",
    "_Feature"
   ],
   "window_display": false
  }
 },
 "nbformat": 4,
 "nbformat_minor": 2
}
